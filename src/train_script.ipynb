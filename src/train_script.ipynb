{
 "cells": [
  {
   "cell_type": "code",
   "execution_count": 1,
   "metadata": {},
   "outputs": [],
   "source": [
    "import torch\n",
    "import torch.nn as nn\n",
    "import torch.optim as optim\n",
    "from torch.utils.data import DataLoader\n",
    "import os\n",
    "\n",
    "from src.data.dataset import LocalImageDataset, get_split_indices\n",
    "from src.model.basic_net import BasicNet\n",
    "from src.model.train import train_model, validate_model, save_checkpoint\n",
    "from src.model.utils import INPUT_DIR, TARGET_DIR, NUM_CHANNELS, NUM_EPOCHS, LEARNING_RATE, BATCH_SIZE, get_device"
   ]
  },
  {
   "cell_type": "code",
   "execution_count": null,
   "metadata": {},
   "outputs": [],
   "source": [
    "device = get_device()\n",
    "model = BasicNet(channels=NUM_CHANNELS)\n",
    "model = model.to(device)\n",
    "reconstruction_loss = nn.L1Loss()\n",
    "\n",
    "optimizer = optim.Adam(model.parameters(), lr=LEARNING_RATE)\n",
    "scaler = torch.amp.GradScaler('cuda')\n",
    "scheduler = torch.optim.lr_scheduler.ReduceLROnPlateau(optimizer, mode='min', factor=0.5, patience=50)\n",
    "\n",
    "num_images = len([f for f in os.listdir(INPUT_DIR) if f.endswith(('.jpg', '.png', '.jpeg', '.webp'))])\n",
    "train_indices, val_indices, test_indices = get_split_indices(num_images)\n",
    "\n",
    "print(train_indices)\n",
    "train_loader = DataLoader(LocalImageDataset(INPUT_DIR, TARGET_DIR, train_indices), batch_size=BATCH_SIZE, shuffle=True)\n",
    "val_loader = DataLoader(LocalImageDataset(INPUT_DIR, TARGET_DIR, val_indices), batch_size=BATCH_SIZE, shuffle=True)\n",
    "test_loader = DataLoader(LocalImageDataset(INPUT_DIR, TARGET_DIR, test_indices), batch_size=BATCH_SIZE, shuffle=True)\n",
    "\n",
    "best_val_loss = float('inf')\n",
    "checkpoint_dir = \"checkpoints\"\n",
    "\n",
    "for epoch in range(1, NUM_EPOCHS + 1): \n",
    "    avg_train_loss = train_model(model, train_loader, optimizer, reconstruction_loss, scaler, device)\n",
    "    avg_val_loss = validate_model(model, val_loader, reconstruction_loss, device)\n",
    "    current_lr = scheduler.get_last_lr()[0]\n",
    "    print(f\"Epoch [{epoch}/{NUM_EPOCHS}] - Training Loss: {avg_train_loss:.4f}, Validation Loss: {avg_val_loss:.4f}, LR: {current_lr:.6f}\")\n",
    "\n",
    "    if avg_val_loss < best_val_loss:\n",
    "        best_val_loss = avg_val_loss\n",
    "        save_checkpoint(model, optimizer, epoch, best_val_loss, checkpoint_dir)\n",
    "    \n",
    "    scheduler.step(avg_val_loss)"
   ]
  }
 ],
 "metadata": {
  "kernelspec": {
   "display_name": "text-sharpener-Pto5mSZ8-py3.10",
   "language": "python",
   "name": "python3"
  },
  "language_info": {
   "codemirror_mode": {
    "name": "ipython",
    "version": 3
   },
   "file_extension": ".py",
   "mimetype": "text/x-python",
   "name": "python",
   "nbconvert_exporter": "python",
   "pygments_lexer": "ipython3",
   "version": "3.10.12"
  }
 },
 "nbformat": 4,
 "nbformat_minor": 2
}
